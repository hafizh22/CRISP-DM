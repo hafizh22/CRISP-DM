{
  "nbformat": 4,
  "nbformat_minor": 0,
  "metadata": {
    "colab": {
      "name": "HargaBeras.ipynb",
      "provenance": [],
      "collapsed_sections": [],
      "include_colab_link": true
    },
    "kernelspec": {
      "name": "python3",
      "display_name": "Python 3"
    },
    "language_info": {
      "name": "python"
    }
  },
  "cells": [
    {
      "cell_type": "markdown",
      "metadata": {
        "id": "view-in-github",
        "colab_type": "text"
      },
      "source": [
        "<a href=\"https://colab.research.google.com/github/hafizh22/CRISP-DM/blob/main/HargaBeras.ipynb\" target=\"_parent\"><img src=\"https://colab.research.google.com/assets/colab-badge.svg\" alt=\"Open In Colab\"/></a>"
      ]
    },
    {
      "cell_type": "code",
      "metadata": {
        "id": "s05WNVm3adiF"
      },
      "source": [
        "#Mempersiapkan Library\n",
        "import numpy as np\n",
        "import pandas as pd\n",
        "import matplotlib.pyplot as plt\n",
        "import sklearn"
      ],
      "execution_count": 21,
      "outputs": []
    },
    {
      "cell_type": "code",
      "metadata": {
        "id": "BD3eBcpSd1oz"
      },
      "source": [
        "#Memanggil dataset\n",
        "dataset = pd.read_excel('HargaBeras.xlsx')\n",
        "x = dataset.iloc[:, :-1].values\n",
        "y = dataset.iloc[:, 1].values"
      ],
      "execution_count": 22,
      "outputs": []
    },
    {
      "cell_type": "code",
      "metadata": {
        "colab": {
          "base_uri": "https://localhost:8080/"
        },
        "id": "YDGIwb25f1th",
        "outputId": "be90b1f5-7b8d-4b85-dff5-61edc9baf2ea"
      },
      "source": [
        "dataset.keys()"
      ],
      "execution_count": 23,
      "outputs": [
        {
          "output_type": "execute_result",
          "data": {
            "text/plain": [
              "Index(['BeratBeras', 'HargaJual'], dtype='object')"
            ]
          },
          "metadata": {
            "tags": []
          },
          "execution_count": 23
        }
      ]
    },
    {
      "cell_type": "code",
      "metadata": {
        "colab": {
          "base_uri": "https://localhost:8080/"
        },
        "id": "1eBvakxaf9Pk",
        "outputId": "3f37bae6-df1b-4f1e-efd2-d2198144f9d8"
      },
      "source": [
        "dataset.shape"
      ],
      "execution_count": 24,
      "outputs": [
        {
          "output_type": "execute_result",
          "data": {
            "text/plain": [
              "(700, 2)"
            ]
          },
          "metadata": {
            "tags": []
          },
          "execution_count": 24
        }
      ]
    },
    {
      "cell_type": "code",
      "metadata": {
        "colab": {
          "base_uri": "https://localhost:8080/",
          "height": 204
        },
        "id": "CWxcs2QmgSbq",
        "outputId": "74b8d1f8-7577-4359-eca3-4ff532eb8e8c"
      },
      "source": [
        "#Menampilkan isi sebagian dataset\n",
        "dataku = pd.DataFrame(dataset)\n",
        "dataku.head()"
      ],
      "execution_count": 15,
      "outputs": [
        {
          "output_type": "execute_result",
          "data": {
            "text/html": [
              "<div>\n",
              "<style scoped>\n",
              "    .dataframe tbody tr th:only-of-type {\n",
              "        vertical-align: middle;\n",
              "    }\n",
              "\n",
              "    .dataframe tbody tr th {\n",
              "        vertical-align: top;\n",
              "    }\n",
              "\n",
              "    .dataframe thead th {\n",
              "        text-align: right;\n",
              "    }\n",
              "</style>\n",
              "<table border=\"1\" class=\"dataframe\">\n",
              "  <thead>\n",
              "    <tr style=\"text-align: right;\">\n",
              "      <th></th>\n",
              "      <th>BeratBeras</th>\n",
              "      <th>HargaJual</th>\n",
              "    </tr>\n",
              "  </thead>\n",
              "  <tbody>\n",
              "    <tr>\n",
              "      <th>0</th>\n",
              "      <td>100</td>\n",
              "      <td>337</td>\n",
              "    </tr>\n",
              "    <tr>\n",
              "      <th>1</th>\n",
              "      <td>100</td>\n",
              "      <td>2010</td>\n",
              "    </tr>\n",
              "    <tr>\n",
              "      <th>2</th>\n",
              "      <td>100</td>\n",
              "      <td>2020</td>\n",
              "    </tr>\n",
              "    <tr>\n",
              "      <th>3</th>\n",
              "      <td>100</td>\n",
              "      <td>2030</td>\n",
              "    </tr>\n",
              "    <tr>\n",
              "      <th>4</th>\n",
              "      <td>100</td>\n",
              "      <td>2040</td>\n",
              "    </tr>\n",
              "  </tbody>\n",
              "</table>\n",
              "</div>"
            ],
            "text/plain": [
              "   BeratBeras  HargaJual\n",
              "0         100        337\n",
              "1         100       2010\n",
              "2         100       2020\n",
              "3         100       2030\n",
              "4         100       2040"
            ]
          },
          "metadata": {
            "tags": []
          },
          "execution_count": 15
        }
      ]
    },
    {
      "cell_type": "code",
      "metadata": {
        "id": "HWxudfvIhE9M"
      },
      "source": [
        "#Split dataset menjadi training set dan testing set\n",
        "from sklearn.model_selection import train_test_split\n",
        "x_train, x_test, y_train, y_test = train_test_split(x, y, test_size = 0.2, random_state=0)"
      ],
      "execution_count": 16,
      "outputs": []
    },
    {
      "cell_type": "code",
      "metadata": {
        "colab": {
          "base_uri": "https://localhost:8080/"
        },
        "id": "3SzbWNYJhyWM",
        "outputId": "ad868dfd-39b9-41b7-c135-7d0359c62e80"
      },
      "source": [
        "#Melakukan Fitting Simple Linear Regression pada Training Set\n",
        "from sklearn.linear_model import LinearRegression\n",
        "regressor = LinearRegression()\n",
        "regressor.fit(x_train, y_train)"
      ],
      "execution_count": 18,
      "outputs": [
        {
          "output_type": "execute_result",
          "data": {
            "text/plain": [
              "LinearRegression(copy_X=True, fit_intercept=True, n_jobs=None, normalize=False)"
            ]
          },
          "metadata": {
            "tags": []
          },
          "execution_count": 18
        }
      ]
    },
    {
      "cell_type": "code",
      "metadata": {
        "id": "TidCnSG6jX3U"
      },
      "source": [
        "#Memprediksi Hasil Test-Set\n",
        "y_pred = regressor.predict(x_test)"
      ],
      "execution_count": 19,
      "outputs": []
    },
    {
      "cell_type": "code",
      "metadata": {
        "colab": {
          "base_uri": "https://localhost:8080/"
        },
        "id": "YwsTlVzRlU3l",
        "outputId": "86eba74d-ea41-42e5-e3c2-c58a9fb08a27"
      },
      "source": [
        "y_pred"
      ],
      "execution_count": 10,
      "outputs": [
        {
          "output_type": "execute_result",
          "data": {
            "text/plain": [
              "array([4570.18939793, 7989.77088566, 3688.85396296, 6509.12735489,\n",
              "       3688.85396296, 7496.22304207, 4376.29560224, 3688.85396296,\n",
              "       4376.29560224, 3688.85396296, 9241.26720333, 4570.18939793,\n",
              "       7390.46278987, 4570.18939793, 3688.85396296, 4570.18939793,\n",
              "       9241.26720333, 4570.18939793, 7214.19570287, 6509.12735489,\n",
              "       7496.22304207, 4570.18939793, 8641.95910754, 8641.95910754,\n",
              "       7866.38392476, 7390.46278987, 7214.19570287, 7390.46278987,\n",
              "       8641.95910754, 3688.85396296, 7496.22304207, 4376.29560224,\n",
              "       3688.85396296, 3688.85396296, 7390.46278987, 4376.29560224,\n",
              "       4570.18939793, 6068.4596374 , 4376.29560224, 4376.29560224,\n",
              "       4111.89497175, 3688.85396296, 4376.29560224, 4570.18939793,\n",
              "       4570.18939793, 6068.4596374 , 6068.4596374 , 7866.38392476,\n",
              "       5962.6993852 , 7866.38392476, 4570.18939793, 8959.23986413,\n",
              "       4570.18939793, 8959.23986413, 4570.18939793, 4570.18939793,\n",
              "       4570.18939793, 3688.85396296, 3688.85396296, 3688.85396296,\n",
              "       4570.18939793, 3688.85396296, 4270.53535004, 4570.18939793,\n",
              "       3688.85396296, 8959.23986413, 6509.12735489, 8271.79822485,\n",
              "       5962.6993852 , 7989.77088566, 4570.18939793, 3688.85396296,\n",
              "       3688.85396296, 6068.4596374 , 9347.02745553, 4376.29560224,\n",
              "       6068.4596374 , 7214.19570287, 4376.29560224, 7866.38392476,\n",
              "       8959.23986413, 4570.18939793, 4570.18939793, 4376.29560224,\n",
              "       8959.23986413, 5962.6993852 , 3688.85396296, 4570.18939793,\n",
              "       4376.29560224, 8641.95910754, 3688.85396296, 9347.02745553,\n",
              "       4570.18939793, 4570.18939793, 3688.85396296, 4376.29560224,\n",
              "       3688.85396296, 6509.12735489, 5962.6993852 , 4376.29560224,\n",
              "       3688.85396296, 6509.12735489, 3688.85396296, 3688.85396296,\n",
              "       3688.85396296, 7654.86342036, 4570.18939793, 4376.29560224,\n",
              "       9241.26720333, 7654.86342036, 4570.18939793, 4111.89497175,\n",
              "       4570.18939793, 3688.85396296, 4570.18939793, 4570.18939793,\n",
              "       4376.29560224, 5451.52483291, 5962.6993852 , 6068.4596374 ,\n",
              "       3688.85396296, 9646.68150342, 3688.85396296, 3688.85396296,\n",
              "       6509.12735489, 4570.18939793, 3688.85396296, 3688.85396296,\n",
              "       4570.18939793, 6068.4596374 , 4376.29560224, 3688.85396296,\n",
              "       6509.12735489, 4376.29560224, 7866.38392476, 4570.18939793,\n",
              "       4376.29560224, 8959.23986413, 6509.12735489, 4570.18939793])"
            ]
          },
          "metadata": {
            "tags": []
          },
          "execution_count": 10
        }
      ]
    },
    {
      "cell_type": "code",
      "metadata": {
        "colab": {
          "base_uri": "https://localhost:8080/",
          "height": 312
        },
        "id": "UupZASCDj0gT",
        "outputId": "25d423ac-7ae7-4d7e-a29a-5e0d2ea2a2bb"
      },
      "source": [
        "#Visualisasi Data\n",
        "plt.scatter(dataku.BeratBeras, dataku.HargaJual)\n",
        "plt.xlabel('Berat Beras ( Kg )')\n",
        "plt.ylabel('Harga Jual ( Juta )')\n",
        "plt.title('Grafik Berat Beras vs Harga Jual')\n",
        "plt.show"
      ],
      "execution_count": null,
      "outputs": [
        {
          "output_type": "execute_result",
          "data": {
            "text/plain": [
              "<function matplotlib.pyplot.show>"
            ]
          },
          "metadata": {
            "tags": []
          },
          "execution_count": 41
        },
        {
          "output_type": "display_data",
          "data": {
            "image/png": "[encoded data removed]",
            "text/plain": [
              "<Figure size 432x288 with 1 Axes>"
            ]
          },
          "metadata": {
            "tags": [],
            "needs_background": "light"
          }
        }
      ]
    },
    {
      "cell_type": "code",
      "metadata": {
        "colab": {
          "base_uri": "https://localhost:8080/",
          "height": 530
        },
        "id": "OghkW8CPkh_E",
        "outputId": "d35c6d97-dd15-4139-8f49-d0d544f41219"
      },
      "source": [
        "#Visualisasi Hasil Prediksi Pada Training Set\n",
        "#Ukuran Plot\n",
        "plt.figure(figsize=(10, 8))\n",
        "\n",
        "#hitam adalah data observasi\n",
        "plt.scatter(x_train, y_train, color='black')\n",
        "\n",
        "#Garis merah adalah hasil prediksi dari Mechine Learning\n",
        "plt.plot(x_train, regressor.predict(x_train), color ='red')\n",
        "\n",
        "#Memberi Judul dan Label\n",
        "plt.title('Berat Beras terhadap Harga Jual ( Training Set )')\n",
        "plt.xlabel('Berat Beras ( kg )')\n",
        "plt.ylabel('Harga Jual (juta )')\n",
        "\n",
        "#Menampilkan Plot\n",
        "plt.show"
      ],
      "execution_count": 20,
      "outputs": [
        {
          "output_type": "execute_result",
          "data": {
            "text/plain": [
              "<function matplotlib.pyplot.show>"
            ]
          },
          "metadata": {
            "tags": []
          },
          "execution_count": 20
        },
        {
          "output_type": "display_data",
          "data": {
            "image/png": "[encoded data removed]",
            "text/plain": [
              "<Figure size 720x576 with 1 Axes>"
            ]
          },
          "metadata": {
            "tags": [],
            "needs_background": "light"
          }
        }
      ]
    },
    {
      "cell_type": "code",
      "metadata": {
        "colab": {
          "base_uri": "https://localhost:8080/",
          "height": 530
        },
        "id": "12mDVjZPna1u",
        "outputId": "a1832d72-2e56-4a23-846c-20ca7e4ba84c"
      },
      "source": [
        "#Visualisasi Hasil Prediksi Pada Test-Set\n",
        "#Ukuran Plot\n",
        "plt.figure(figsize=(10,8))\n",
        "\n",
        "#Hitam Adalah Data Observasi\n",
        "plt.scatter(x_test, y_test, color = 'black')\n",
        "\n",
        "#Garis Merah adalah hasil prediksi dari machine learning\n",
        "plt.plot(x_test, regressor.predict(x_test), color = 'red')\n",
        "\n",
        "#Memberikan Judul dan Label\n",
        "plt.title('Berat Beras terhadap Harga Jual ( Test Set )')\n",
        "plt.xlabel('Berat Beras ( kg )')\n",
        "plt.ylabel('Harga Jual ( juta )')\n",
        "\n",
        "#Menampilkan Plot\n",
        "plt.show"
      ],
      "execution_count": null,
      "outputs": [
        {
          "output_type": "execute_result",
          "data": {
            "text/plain": [
              "<function matplotlib.pyplot.show>"
            ]
          },
          "metadata": {
            "tags": []
          },
          "execution_count": 31
        },
        {
          "output_type": "display_data",
          "data": {
            "image/png": "[encoded data removed]",
            "text/plain": [
              "<Figure size 720x576 with 1 Axes>"
            ]
          },
          "metadata": {
            "tags": [],
            "needs_background": "light"
          }
        }
      ]
    }
  ]
}